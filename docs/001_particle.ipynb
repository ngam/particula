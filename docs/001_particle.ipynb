{
 "cells": [
  {
   "cell_type": "markdown",
   "metadata": {},
   "source": [
    "# 001 `Particle` class"
   ]
  },
  {
   "cell_type": "code",
   "execution_count": 1,
   "metadata": {},
   "outputs": [
    {
     "name": "stdout",
     "output_type": "stream",
     "text": [
      "/Users/ngam/Repos/particula\n"
     ]
    }
   ],
   "source": [
    "%cd .."
   ]
  },
  {
   "cell_type": "code",
   "execution_count": 67,
   "metadata": {},
   "outputs": [],
   "source": [
    "import imp\n",
    "from aerosol_dynamics import particle"
   ]
  },
  {
   "cell_type": "code",
   "execution_count": 68,
   "metadata": {},
   "outputs": [
    {
     "data": {
      "text/plain": [
       "<module 'aerosol_dynamics.particle' from '/Users/ngam/Repos/particula/aerosol_dynamics/particle.py'>"
      ]
     },
     "execution_count": 68,
     "metadata": {},
     "output_type": "execute_result"
    }
   ],
   "source": [
    "imp.reload(particle)"
   ]
  },
  {
   "cell_type": "code",
   "execution_count": 69,
   "metadata": {},
   "outputs": [
    {
     "name": "stdout",
     "output_type": "stream",
     "text": [
      "\u001b[0;31mSignature:\u001b[0m \u001b[0mparticle\u001b[0m\u001b[0;34m.\u001b[0m\u001b[0mParticle\u001b[0m\u001b[0;34m.\u001b[0m\u001b[0mdiffusive_knudsen_number\u001b[0m\u001b[0;34m(\u001b[0m\u001b[0mself\u001b[0m\u001b[0;34m,\u001b[0m \u001b[0mother\u001b[0m\u001b[0;34m)\u001b[0m \u001b[0;34m->\u001b[0m \u001b[0mfloat\u001b[0m\u001b[0;34m\u001b[0m\u001b[0;34m\u001b[0m\u001b[0m\n",
      "\u001b[0;31mDocstring:\u001b[0m\n",
      "Diffusive Knudsen number.\n",
      "\n",
      "The *diffusive* Knudsen number is different from Knudsen number.\n",
      "The diffusive Knudsen number is the ratio of mean persistence distance and ion--particle electrostatic length scale.\n",
      "\n",
      "the ratio of the Knudsen number of the\n",
      "TODO:\n",
      "- do return statements in steps -> easier to debug\n",
      "- assess if multi-step --> higher resources\n",
      "\u001b[0;31mFile:\u001b[0m      ~/Repos/particula/aerosol_dynamics/particle.py\n",
      "\u001b[0;31mType:\u001b[0m      function\n"
     ]
    }
   ],
   "source": [
    "?particle.Particle.diffusive_knudsen_number"
   ]
  },
  {
   "cell_type": "code",
   "execution_count": 70,
   "metadata": {},
   "outputs": [],
   "source": [
    "particle_a = particle.Particle(\n",
    "    name='a', radius=1.0e-9, density=1.0e3, charge=0\n",
    ")"
   ]
  },
  {
   "cell_type": "code",
   "execution_count": 71,
   "metadata": {},
   "outputs": [],
   "source": [
    "particle_b = particle.Particle(\n",
    "    name='b', radius=2.0e-9, density=1.1e3, charge=-1\n",
    ")"
   ]
  },
  {
   "cell_type": "code",
   "execution_count": 72,
   "metadata": {},
   "outputs": [
    {
     "data": {
      "text/plain": [
       "'a'"
      ]
     },
     "execution_count": 72,
     "metadata": {},
     "output_type": "execute_result"
    }
   ],
   "source": [
    "particle_a.name()"
   ]
  },
  {
   "cell_type": "code",
   "execution_count": 73,
   "metadata": {},
   "outputs": [
    {
     "data": {
      "text/html": [
       "4.188790204786392×10<sup>-24</sup> kilogram"
      ],
      "text/latex": [
       "$4.188790204786392\\times 10^{-24}\\ \\mathrm{kilogram}$"
      ],
      "text/plain": [
       "4.188790204786392e-24 <Unit('kilogram')>"
      ]
     },
     "execution_count": 73,
     "metadata": {},
     "output_type": "execute_result"
    }
   ],
   "source": [
    "particle_a.mass()"
   ]
  },
  {
   "cell_type": "code",
   "execution_count": 74,
   "metadata": {},
   "outputs": [
    {
     "data": {
      "text/html": [
       "1×10<sup>-9</sup> meter"
      ],
      "text/latex": [
       "$1\\times 10^{-9}\\ \\mathrm{meter}$"
      ],
      "text/plain": [
       "1e-09 <Unit('meter')>"
      ]
     },
     "execution_count": 74,
     "metadata": {},
     "output_type": "execute_result"
    }
   ],
   "source": [
    "particle_a.radius()"
   ]
  },
  {
   "cell_type": "code",
   "execution_count": 75,
   "metadata": {},
   "outputs": [
    {
     "data": {
      "text/html": [
       "1000.0 kilogram/meter<sup>3</sup>"
      ],
      "text/latex": [
       "$1000.0\\ \\frac{\\mathrm{kilogram}}{\\mathrm{meter}^{3}}$"
      ],
      "text/plain": [
       "1000.0 <Unit('kilogram / meter ** 3')>"
      ]
     },
     "execution_count": 75,
     "metadata": {},
     "output_type": "execute_result"
    }
   ],
   "source": [
    "particle_a.density()"
   ]
  },
  {
   "cell_type": "code",
   "execution_count": 76,
   "metadata": {},
   "outputs": [
    {
     "data": {
      "text/html": [
       "0 dimensionless"
      ],
      "text/latex": [
       "$0\\ dimensionless$"
      ],
      "text/plain": [
       "0 <Unit('dimensionless')>"
      ]
     },
     "execution_count": 76,
     "metadata": {},
     "output_type": "execute_result"
    }
   ],
   "source": [
    "particle_a.charge()"
   ]
  },
  {
   "cell_type": "code",
   "execution_count": 77,
   "metadata": {},
   "outputs": [
    {
     "data": {
      "text/html": [
       "65.0 dimensionless"
      ],
      "text/latex": [
       "$65.0\\ dimensionless$"
      ],
      "text/plain": [
       "65.0 <Unit('dimensionless')>"
      ]
     },
     "execution_count": 77,
     "metadata": {},
     "output_type": "execute_result"
    }
   ],
   "source": [
    "particle_a.knudsen_number()"
   ]
  },
  {
   "cell_type": "code",
   "execution_count": 78,
   "metadata": {},
   "outputs": [
    {
     "data": {
      "text/html": [
       "108.2687021635053 dimensionless"
      ],
      "text/latex": [
       "$108.2687021635053\\ dimensionless$"
      ],
      "text/plain": [
       "108.2687021635053 <Unit('dimensionless')>"
      ]
     },
     "execution_count": 78,
     "metadata": {},
     "output_type": "execute_result"
    }
   ],
   "source": [
    "particle_a.slip_correction_factor()"
   ]
  },
  {
   "cell_type": "code",
   "execution_count": 79,
   "metadata": {},
   "outputs": [
    {
     "data": {
      "text/html": [
       "3.1808027602144434×10<sup>-15</sup> kilogram/second"
      ],
      "text/latex": [
       "$3.1808027602144434\\times 10^{-15}\\ \\frac{\\mathrm{kilogram}}{\\mathrm{second}}$"
      ],
      "text/plain": [
       "3.1808027602144434e-15 <Unit('kilogram / second')>"
      ]
     },
     "execution_count": 79,
     "metadata": {},
     "output_type": "execute_result"
    }
   ],
   "source": [
    "particle_a.friction_factor()"
   ]
  },
  {
   "cell_type": "code",
   "execution_count": 80,
   "metadata": {},
   "outputs": [
    {
     "data": {
      "text/html": [
       "3.761362632869413×10<sup>-24</sup> kilogram"
      ],
      "text/latex": [
       "$3.761362632869413\\times 10^{-24}\\ \\mathrm{kilogram}$"
      ],
      "text/plain": [
       "3.761362632869413e-24 <Unit('kilogram')>"
      ]
     },
     "execution_count": 80,
     "metadata": {},
     "output_type": "execute_result"
    }
   ],
   "source": [
    "particle_a.reduced_mass(particle_b)"
   ]
  },
  {
   "cell_type": "code",
   "execution_count": 81,
   "metadata": {},
   "outputs": [
    {
     "data": {
      "text/html": [
       "2.5419608801928475×10<sup>-15</sup> kilogram/second"
      ],
      "text/latex": [
       "$2.5419608801928475\\times 10^{-15}\\ \\frac{\\mathrm{kilogram}}{\\mathrm{second}}$"
      ],
      "text/plain": [
       "2.5419608801928475e-15 <Unit('kilogram / second')>"
      ]
     },
     "execution_count": 81,
     "metadata": {},
     "output_type": "execute_result"
    }
   ],
   "source": [
    "particle_a.reduced_friction_factor(particle_b)"
   ]
  },
  {
   "cell_type": "code",
   "execution_count": 82,
   "metadata": {},
   "outputs": [],
   "source": [
    "from aerosol_dynamics import physical_parameters as pp"
   ]
  },
  {
   "cell_type": "code",
   "execution_count": 83,
   "metadata": {},
   "outputs": [
    {
     "data": {
      "text/plain": [
       "<module 'aerosol_dynamics.physical_parameters' from '/Users/ngam/Repos/particula/aerosol_dynamics/physical_parameters.py'>"
      ]
     },
     "execution_count": 83,
     "metadata": {},
     "output_type": "execute_result"
    }
   ],
   "source": [
    "imp.reload(pp)"
   ]
  },
  {
   "cell_type": "code",
   "execution_count": 84,
   "metadata": {},
   "outputs": [
    {
     "data": {
      "text/html": [
       "1.380649×10<sup>-23</sup> kilogram meter<sup>2</sup>/(kelvin second<sup>2</sup>)"
      ],
      "text/latex": [
       "$1.380649\\times 10^{-23}\\ \\frac{\\mathrm{kilogram} \\cdot \\mathrm{meter}^{2}}{\\left(\\mathrm{kelvin} \\cdot \\mathrm{second}^{2}\\right)}$"
      ],
      "text/plain": [
       "1.380649e-23 <Unit('kilogram * meter ** 2 / kelvin / second ** 2')>"
      ]
     },
     "execution_count": 84,
     "metadata": {},
     "output_type": "execute_result"
    }
   ],
   "source": [
    "pp.BOLTZMANN_CONSTANT"
   ]
  },
  {
   "cell_type": "code",
   "execution_count": 85,
   "metadata": {},
   "outputs": [
    {
     "data": {
      "text/html": [
       "0.0 dimensionless"
      ],
      "text/latex": [
       "$0.0\\ dimensionless$"
      ],
      "text/plain": [
       "0.0 <Unit('dimensionless')>"
      ]
     },
     "execution_count": 85,
     "metadata": {},
     "output_type": "execute_result"
    }
   ],
   "source": [
    "particle_a.coulomb_potential_ratio(particle_b)"
   ]
  },
  {
   "cell_type": "code",
   "execution_count": 86,
   "metadata": {},
   "outputs": [
    {
     "data": {
      "text/html": [
       "1.0 dimensionless"
      ],
      "text/latex": [
       "$1.0\\ dimensionless$"
      ],
      "text/plain": [
       "1.0 <Unit('dimensionless')>"
      ]
     },
     "execution_count": 86,
     "metadata": {},
     "output_type": "execute_result"
    }
   ],
   "source": [
    "particle_a.coulomb_enhancement_kinetic_limit(particle_b)"
   ]
  },
  {
   "cell_type": "code",
   "execution_count": 87,
   "metadata": {},
   "outputs": [
    {
     "data": {
      "text/html": [
       "1 dimensionless"
      ],
      "text/latex": [
       "$1\\ dimensionless$"
      ],
      "text/plain": [
       "1 <Unit('dimensionless')>"
      ]
     },
     "execution_count": 87,
     "metadata": {},
     "output_type": "execute_result"
    }
   ],
   "source": [
    "particle_a.coulomb_enhancement_continuum_limit(particle_b)"
   ]
  },
  {
   "cell_type": "code",
   "execution_count": 88,
   "metadata": {},
   "outputs": [
    {
     "data": {
      "text/html": [
       "16.36759062459431 dimensionless"
      ],
      "text/latex": [
       "$16.36759062459431\\ dimensionless$"
      ],
      "text/plain": [
       "16.36759062459431 <Unit('dimensionless')>"
      ]
     },
     "execution_count": 88,
     "metadata": {},
     "output_type": "execute_result"
    }
   ],
   "source": [
    "particle_a.diffusive_knudsen_number(particle_b)"
   ]
  },
  {
   "cell_type": "code",
   "execution_count": null,
   "metadata": {},
   "outputs": [],
   "source": []
  },
  {
   "cell_type": "code",
   "execution_count": 89,
   "metadata": {},
   "outputs": [
    {
     "data": {
      "text/html": [
       "16.36759062459431 dimensionless"
      ],
      "text/latex": [
       "$16.36759062459431\\ dimensionless$"
      ],
      "text/plain": [
       "16.36759062459431 <Unit('dimensionless')>"
      ]
     },
     "execution_count": 89,
     "metadata": {},
     "output_type": "execute_result"
    }
   ],
   "source": [
    "particle.Particle.diffusive_knudsen_number(particle_a, particle_b)"
   ]
  },
  {
   "cell_type": "code",
   "execution_count": 90,
   "metadata": {},
   "outputs": [
    {
     "data": {
      "text/html": [
       "81.14294610354055 dimensionless"
      ],
      "text/latex": [
       "$81.14294610354055\\ dimensionless$"
      ],
      "text/plain": [
       "81.14294610354055 <Unit('dimensionless')>"
      ]
     },
     "execution_count": 90,
     "metadata": {},
     "output_type": "execute_result"
    }
   ],
   "source": [
    "particle_a.dimensionless_coagulation_kernel_hard_sphere(particle_b)"
   ]
  },
  {
   "cell_type": "code",
   "execution_count": 91,
   "metadata": {},
   "outputs": [
    {
     "data": {
      "text/html": [
       "3366.5058420412925 dimensionless"
      ],
      "text/latex": [
       "$3366.5058420412925\\ dimensionless$"
      ],
      "text/plain": [
       "3366.5058420412925 <Unit('dimensionless')>"
      ]
     },
     "execution_count": 91,
     "metadata": {},
     "output_type": "execute_result"
    }
   ],
   "source": [
    "particle_a.collision_kernel_continuum_limit(particle_b)"
   ]
  },
  {
   "cell_type": "code",
   "execution_count": 11,
   "metadata": {},
   "outputs": [
    {
     "ename": "AttributeError",
     "evalue": "'Particle' object has no attribute 'density'",
     "output_type": "error",
     "traceback": [
      "\u001b[0;31m---------------------------------------------------------------------------\u001b[0m",
      "\u001b[0;31mAttributeError\u001b[0m                            Traceback (most recent call last)",
      "\u001b[0;32m/var/folders/nd/59sydh9d3qd08jw_1j8q0z7w0000gn/T/ipykernel_20630/605195501.py\u001b[0m in \u001b[0;36m<module>\u001b[0;34m\u001b[0m\n\u001b[0;32m----> 1\u001b[0;31m \u001b[0mparticle_a\u001b[0m\u001b[0;34m.\u001b[0m\u001b[0mdensity\u001b[0m\u001b[0;34m(\u001b[0m\u001b[0;34m)\u001b[0m\u001b[0;34m\u001b[0m\u001b[0;34m\u001b[0m\u001b[0m\n\u001b[0m",
      "\u001b[0;31mAttributeError\u001b[0m: 'Particle' object has no attribute 'density'"
     ]
    }
   ],
   "source": [
    "particle_a.density()"
   ]
  },
  {
   "cell_type": "code",
   "execution_count": null,
   "metadata": {},
   "outputs": [],
   "source": []
  }
 ],
 "metadata": {
  "interpreter": {
   "hash": "31f2aee4e71d21fbe5cf8b01ff0e069b9275f58929596ceb00d14d90e3e16cd6"
  },
  "kernelspec": {
   "display_name": "Python 3.8.9 64-bit",
   "language": "python",
   "name": "python3"
  },
  "language_info": {
   "codemirror_mode": {
    "name": "ipython",
    "version": 3
   },
   "file_extension": ".py",
   "mimetype": "text/x-python",
   "name": "python",
   "nbconvert_exporter": "python",
   "pygments_lexer": "ipython3",
   "version": "3.9.7"
  },
  "orig_nbformat": 4
 },
 "nbformat": 4,
 "nbformat_minor": 2
}
